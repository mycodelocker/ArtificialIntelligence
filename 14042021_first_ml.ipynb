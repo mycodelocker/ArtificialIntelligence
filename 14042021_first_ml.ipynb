{
  "nbformat": 4,
  "nbformat_minor": 0,
  "metadata": {
    "kernelspec": {
      "display_name": "Python 3",
      "language": "python",
      "name": "python3"
    },
    "language_info": {
      "codemirror_mode": {
        "name": "ipython",
        "version": 3
      },
      "file_extension": ".py",
      "mimetype": "text/x-python",
      "name": "python",
      "nbconvert_exporter": "python",
      "pygments_lexer": "ipython3",
      "version": "3.6.5"
    },
    "colab": {
      "name": "14042021_first_ml.ipynb",
      "provenance": [],
      "include_colab_link": true
    }
  },
  "cells": [
    {
      "cell_type": "markdown",
      "metadata": {
        "id": "view-in-github",
        "colab_type": "text"
      },
      "source": [
        "<a href=\"https://colab.research.google.com/github/mycodelocker/ArtificialIntelligence/blob/main/14042021_first_ml.ipynb\" target=\"_parent\"><img src=\"https://colab.research.google.com/assets/colab-badge.svg\" alt=\"Open In Colab\"/></a>"
      ]
    },
    {
      "cell_type": "code",
      "metadata": {
        "id": "aaGwEY-M7ZIX"
      },
      "source": [
        "import numpy as np\n",
        "import pandas as pd\n",
        "import matplotlib.pyplot as plt"
      ],
      "execution_count": null,
      "outputs": []
    },
    {
      "cell_type": "code",
      "metadata": {
        "id": "KfgNlQhQ7ZIi"
      },
      "source": [
        "iris = pd.read_csv('https://archive.ics.uci.edu/ml/machine-learning-databases/iris/iris.data', header=None)"
      ],
      "execution_count": null,
      "outputs": []
    },
    {
      "cell_type": "code",
      "metadata": {
        "id": "8mnwG3Ai7ZIj",
        "outputId": "97685608-6702-45b5-e958-f85b6ad6ae98"
      },
      "source": [
        "print(iris.head())"
      ],
      "execution_count": null,
      "outputs": [
        {
          "output_type": "stream",
          "text": [
            "     0    1    2    3            4\n",
            "0  5.1  3.5  1.4  0.2  Iris-setosa\n",
            "1  4.9  3.0  1.4  0.2  Iris-setosa\n",
            "2  4.7  3.2  1.3  0.2  Iris-setosa\n",
            "3  4.6  3.1  1.5  0.2  Iris-setosa\n",
            "4  5.0  3.6  1.4  0.2  Iris-setosa\n"
          ],
          "name": "stdout"
        }
      ]
    },
    {
      "cell_type": "code",
      "metadata": {
        "id": "dzchS7hK7ZIl"
      },
      "source": [
        "iris.columns = ['sl','sw','pl','pw','class']"
      ],
      "execution_count": null,
      "outputs": []
    },
    {
      "cell_type": "code",
      "metadata": {
        "id": "x7sFhrbF7ZIm",
        "outputId": "bff338ad-1fb3-41d2-ddf8-57ab9a4fae5e"
      },
      "source": [
        "print(iris[['sl','sw','pl','pw']].groupby(iris['class']).mean())"
      ],
      "execution_count": null,
      "outputs": [
        {
          "output_type": "stream",
          "text": [
            "                    sl     sw     pl     pw\n",
            "class                                      \n",
            "Iris-setosa      5.006  3.418  1.464  0.244\n",
            "Iris-versicolor  5.936  2.770  4.260  1.326\n",
            "Iris-virginica   6.588  2.974  5.552  2.026\n"
          ],
          "name": "stdout"
        }
      ]
    },
    {
      "cell_type": "code",
      "metadata": {
        "id": "XAOCYYsI7ZIo",
        "outputId": "e4108d26-d61c-4db6-c018-e26450928b7b"
      },
      "source": [
        "y = iris.iloc[50:, 4].values \n",
        "y = np.where(y == 'Iris-versicolor', -1, 1) \n",
        "X = iris.iloc[50:, [0, 1]].values \n",
        "plt.scatter(X[:50, 0], X[:50, 1], color='red', marker='o', label='versicolor') \n",
        "plt.scatter(X[50:, 0], X[50:, 1], color='blue', marker='x', label='virginica') \n",
        "plt.legend(loc='best')"
      ],
      "execution_count": null,
      "outputs": [
        {
          "output_type": "execute_result",
          "data": {
            "text/plain": [
              "<matplotlib.legend.Legend at 0x24a70d616d8>"
            ]
          },
          "metadata": {
            "tags": []
          },
          "execution_count": 18
        },
        {
          "output_type": "display_data",
          "data": {
            "image/png": "[encoded data removed]",
            "text/plain": [
              "<Figure size 432x288 with 1 Axes>"
            ]
          },
          "metadata": {
            "tags": []
          }
        }
      ]
    },
    {
      "cell_type": "code",
      "metadata": {
        "id": "bq3zQLZj7ZIp",
        "outputId": "208a9ecf-88b7-4e2b-da95-6a08ab4c962d"
      },
      "source": [
        "y = iris.iloc[0:100, 4].values \n",
        "y = np.where(y == 'Iris-setosa', -1, 1) \n",
        "X = iris.iloc[0:100, [2, 3]].values \n",
        "plt.scatter(X[:50, 0], X[:50, 1], color='red', marker='o', label='setosa') \n",
        "plt.scatter(X[50:, 0], X[50:, 1], color='blue', marker='x', label='versicolor') "
      ],
      "execution_count": null,
      "outputs": [
        {
          "output_type": "execute_result",
          "data": {
            "text/plain": [
              "<matplotlib.collections.PathCollection at 0x24a6a66b128>"
            ]
          },
          "metadata": {
            "tags": []
          },
          "execution_count": 10
        },
        {
          "output_type": "display_data",
          "data": {
            "image/png": "[encoded data removed]",
            "text/plain": [
              "<Figure size 432x288 with 1 Axes>"
            ]
          },
          "metadata": {
            "tags": []
          }
        }
      ]
    },
    {
      "cell_type": "code",
      "metadata": {
        "id": "P6uiRuvx7ZIq"
      },
      "source": [
        "import sklearn"
      ],
      "execution_count": null,
      "outputs": []
    },
    {
      "cell_type": "code",
      "metadata": {
        "id": "tyKXD4lz7ZIq"
      },
      "source": [
        "from sklearn.model_selection import train_test_split\n",
        "from sklearn.linear_model import Perceptron"
      ],
      "execution_count": null,
      "outputs": []
    },
    {
      "cell_type": "code",
      "metadata": {
        "id": "RoYcPdwD7ZIq"
      },
      "source": [
        "y = iris.iloc[50:, 4].values \n",
        "y = np.where(y == 'Iris-versicolor', -1, 1) \n",
        "X = iris.iloc[50:, :4].values "
      ],
      "execution_count": null,
      "outputs": []
    },
    {
      "cell_type": "code",
      "metadata": {
        "id": "BNQa0jcT7ZIr"
      },
      "source": [
        "X_train, X_test, y_train, y_test = train_test_split(X,y,test_size=0.3)"
      ],
      "execution_count": null,
      "outputs": []
    },
    {
      "cell_type": "code",
      "metadata": {
        "id": "gmaV6_N37ZIr",
        "outputId": "18913402-6963-4dde-c313-ab38a0bd6fec"
      },
      "source": [
        "print(X_train.shape)\n",
        "print(y_train.shape)"
      ],
      "execution_count": null,
      "outputs": [
        {
          "output_type": "stream",
          "text": [
            "(70, 4)\n",
            "(70,)\n"
          ],
          "name": "stdout"
        }
      ]
    },
    {
      "cell_type": "code",
      "metadata": {
        "id": "OaThw4GQ7ZIs",
        "outputId": "036a517e-d68a-4876-a864-84d49826887b"
      },
      "source": [
        "ppn = Perceptron(eta0=0.05,max_iter=7)\n",
        "ppn.fit(X_train,y_train)        #Training the model\n",
        "y_pred = ppn.predict(X_test)    #getting the y-hat for test data\n",
        "print(\"Misclassified\",(y_pred!=y_test).sum())   #Check misclassification"
      ],
      "execution_count": null,
      "outputs": [
        {
          "output_type": "stream",
          "text": [
            "Misclassified 2\n"
          ],
          "name": "stdout"
        },
        {
          "output_type": "stream",
          "text": [
            "C:\\Users\\Microsoft\\Anaconda3\\lib\\site-packages\\sklearn\\linear_model\\_stochastic_gradient.py:577: ConvergenceWarning: Maximum number of iteration reached before convergence. Consider increasing max_iter to improve the fit.\n",
            "  ConvergenceWarning)\n"
          ],
          "name": "stderr"
        }
      ]
    },
    {
      "cell_type": "code",
      "metadata": {
        "id": "x3KY-HCO7ZIs",
        "outputId": "d81fd461-d69d-4fcb-c86f-3144dd97983c"
      },
      "source": [
        "print(ppn.coef_)"
      ],
      "execution_count": null,
      "outputs": [
        {
          "output_type": "stream",
          "text": [
            "[[-0.11  2.15]]\n"
          ],
          "name": "stdout"
        }
      ]
    },
    {
      "cell_type": "code",
      "metadata": {
        "id": "mYOK5G5E7ZIt",
        "outputId": "3107b525-f155-4842-c725-9797284f1d35"
      },
      "source": [
        "y = iris.iloc[50:, 4].values \n",
        "y = np.where(y == 'Iris-versicolor', -1, 1) \n",
        "X = iris.iloc[50:, [2, 3]].values \n",
        "plt.scatter(X[:50, 0], X[:50, 1], color='red', marker='o', label='versicolor') \n",
        "plt.scatter(X[50:, 0], X[50:, 1], color='blue', marker='x', label='virginica') \n",
        "plt.legend(loc='best')"
      ],
      "execution_count": null,
      "outputs": [
        {
          "output_type": "execute_result",
          "data": {
            "text/plain": [
              "<matplotlib.legend.Legend at 0x24a70e36ef0>"
            ]
          },
          "metadata": {
            "tags": []
          },
          "execution_count": 24
        },
        {
          "output_type": "display_data",
          "data": {
            "image/png": "[encoded data removed]",
            "text/plain": [
              "<Figure size 432x288 with 1 Axes>"
            ]
          },
          "metadata": {
            "tags": []
          }
        }
      ]
    },
    {
      "cell_type": "code",
      "metadata": {
        "id": "yW63uOkz7ZIu",
        "outputId": "173ab876-d659-4151-8fa0-4030c3a6f254"
      },
      "source": [
        "print(iris.head())"
      ],
      "execution_count": null,
      "outputs": [
        {
          "output_type": "stream",
          "text": [
            "    sl   sw   pl   pw        class\n",
            "0  5.1  3.5  1.4  0.2  Iris-setosa\n",
            "1  4.9  3.0  1.4  0.2  Iris-setosa\n",
            "2  4.7  3.2  1.3  0.2  Iris-setosa\n",
            "3  4.6  3.1  1.5  0.2  Iris-setosa\n",
            "4  5.0  3.6  1.4  0.2  Iris-setosa\n"
          ],
          "name": "stdout"
        }
      ]
    },
    {
      "cell_type": "code",
      "metadata": {
        "id": "g-wWHSqV7ZIu"
      },
      "source": [
        "from sklearn.preprocessing import LabelEncoder"
      ],
      "execution_count": null,
      "outputs": []
    },
    {
      "cell_type": "code",
      "metadata": {
        "id": "dCPoUsiH7ZIv"
      },
      "source": [
        "le = LabelEncoder()"
      ],
      "execution_count": null,
      "outputs": []
    },
    {
      "cell_type": "code",
      "metadata": {
        "id": "IXUP-XSe7ZIv"
      },
      "source": [
        "iris['n_class'] = le.fit_transform(iris['class'])"
      ],
      "execution_count": null,
      "outputs": []
    },
    {
      "cell_type": "code",
      "metadata": {
        "id": "ESGW26Dk7ZIv",
        "outputId": "4b46d337-aff1-4018-eef1-5246089b730b"
      },
      "source": [
        "print(iris.head())"
      ],
      "execution_count": null,
      "outputs": [
        {
          "output_type": "stream",
          "text": [
            "    sl   sw   pl   pw        class  n_class\n",
            "0  5.1  3.5  1.4  0.2  Iris-setosa        0\n",
            "1  4.9  3.0  1.4  0.2  Iris-setosa        0\n",
            "2  4.7  3.2  1.3  0.2  Iris-setosa        0\n",
            "3  4.6  3.1  1.5  0.2  Iris-setosa        0\n",
            "4  5.0  3.6  1.4  0.2  Iris-setosa        0\n"
          ],
          "name": "stdout"
        }
      ]
    },
    {
      "cell_type": "code",
      "metadata": {
        "id": "mvkdCiG67ZIw"
      },
      "source": [
        "X = iris[['sl','sw','pl','pw']]"
      ],
      "execution_count": null,
      "outputs": []
    },
    {
      "cell_type": "code",
      "metadata": {
        "id": "EgB2l1yH7ZIw",
        "outputId": "5e08ed79-cddd-4dad-dcee-83a8f317148b"
      },
      "source": [
        "X.shape"
      ],
      "execution_count": null,
      "outputs": [
        {
          "output_type": "execute_result",
          "data": {
            "text/plain": [
              "(150, 4)"
            ]
          },
          "metadata": {
            "tags": []
          },
          "execution_count": 12
        }
      ]
    },
    {
      "cell_type": "code",
      "metadata": {
        "id": "DDTu-2LI7ZIw"
      },
      "source": [
        "y = iris['n_class']"
      ],
      "execution_count": null,
      "outputs": []
    },
    {
      "cell_type": "code",
      "metadata": {
        "id": "g3Gvoqyt7ZIx"
      },
      "source": [
        "from sklearn.model_selection import train_test_split\n",
        "from sklearn.tree import DecisionTreeClassifier"
      ],
      "execution_count": null,
      "outputs": []
    },
    {
      "cell_type": "code",
      "metadata": {
        "id": "n1EGQNrq7ZIx"
      },
      "source": [
        "Y = pd.get_dummies(y).values"
      ],
      "execution_count": null,
      "outputs": []
    },
    {
      "cell_type": "code",
      "metadata": {
        "id": "YelV9YPE7ZIy"
      },
      "source": [
        ""
      ],
      "execution_count": null,
      "outputs": []
    },
    {
      "cell_type": "code",
      "metadata": {
        "id": "0jzEC7tM7ZIy"
      },
      "source": [
        "X_train, X_test, y_train, y_test = train_test_split(X,Y,test_size=0.3)"
      ],
      "execution_count": null,
      "outputs": []
    },
    {
      "cell_type": "code",
      "metadata": {
        "id": "WttEI88J7ZIy",
        "outputId": "7a20d8ab-c1d8-49e9-f057-7275ba2695c6"
      },
      "source": [
        "print(X_train.shape)\n",
        "print(y_train.shape)"
      ],
      "execution_count": null,
      "outputs": [
        {
          "output_type": "stream",
          "text": [
            "(105, 4)\n",
            "(105, 3)\n"
          ],
          "name": "stdout"
        }
      ]
    },
    {
      "cell_type": "code",
      "metadata": {
        "id": "wJkXa6mt7ZIz",
        "outputId": "fba06c5b-a061-4652-c8bc-f85dabaa5aea"
      },
      "source": [
        "dt = DecisionTreeClassifier(max_depth=10,criterion='entropy')\n",
        "dt.fit(X_train,y_train)\n",
        "y_pred = dt.predict(X_test)\n",
        "print(\"Misclassified\",(y_test != y_pred).sum())"
      ],
      "execution_count": null,
      "outputs": [
        {
          "output_type": "stream",
          "text": [
            "Misclassified 4\n"
          ],
          "name": "stdout"
        }
      ]
    },
    {
      "cell_type": "code",
      "metadata": {
        "id": "kkfIBBir7ZIz"
      },
      "source": [
        "from sklearn.tree import plot_tree\n",
        "cn = ['setosa', 'versicolor', 'virginica']"
      ],
      "execution_count": null,
      "outputs": []
    },
    {
      "cell_type": "code",
      "metadata": {
        "id": "_ReE50bn7ZI0",
        "outputId": "856c4c12-8878-4d7e-d2de-b67423522743"
      },
      "source": [
        "plot_tree(dt, feature_names=iris.columns, class_names=cn,filled=True)"
      ],
      "execution_count": null,
      "outputs": [
        {
          "output_type": "execute_result",
          "data": {
            "text/plain": [
              "[Text(148.8, 195.696, 'pl <= 2.6\\ngini = 0.664\\nsamples = 105\\nvalue = [36, 31, 38]\\nclass = virginica'),\n",
              " Text(111.60000000000001, 152.208, 'gini = 0.0\\nsamples = 36\\nvalue = [36, 0, 0]\\nclass = setosa'),\n",
              " Text(186.0, 152.208, 'pw <= 1.75\\ngini = 0.495\\nsamples = 69\\nvalue = [0, 31, 38]\\nclass = virginica'),\n",
              " Text(111.60000000000001, 108.72, 'pl <= 5.05\\ngini = 0.165\\nsamples = 33\\nvalue = [0, 30, 3]\\nclass = versicolor'),\n",
              " Text(74.4, 65.232, 'sl <= 4.95\\ngini = 0.062\\nsamples = 31\\nvalue = [0, 30, 1]\\nclass = versicolor'),\n",
              " Text(37.2, 21.744, 'gini = 0.0\\nsamples = 1\\nvalue = [0, 0, 1]\\nclass = virginica'),\n",
              " Text(111.60000000000001, 21.744, 'gini = 0.0\\nsamples = 30\\nvalue = [0, 30, 0]\\nclass = versicolor'),\n",
              " Text(148.8, 65.232, 'gini = 0.0\\nsamples = 2\\nvalue = [0, 0, 2]\\nclass = virginica'),\n",
              " Text(260.40000000000003, 108.72, 'pl <= 4.85\\ngini = 0.054\\nsamples = 36\\nvalue = [0, 1, 35]\\nclass = virginica'),\n",
              " Text(223.20000000000002, 65.232, 'sl <= 6.05\\ngini = 0.5\\nsamples = 2\\nvalue = [0, 1, 1]\\nclass = versicolor'),\n",
              " Text(186.0, 21.744, 'gini = 0.0\\nsamples = 1\\nvalue = [0, 1, 0]\\nclass = versicolor'),\n",
              " Text(260.40000000000003, 21.744, 'gini = 0.0\\nsamples = 1\\nvalue = [0, 0, 1]\\nclass = virginica'),\n",
              " Text(297.6, 65.232, 'gini = 0.0\\nsamples = 34\\nvalue = [0, 0, 34]\\nclass = virginica')]"
            ]
          },
          "metadata": {
            "tags": []
          },
          "execution_count": 18
        },
        {
          "output_type": "display_data",
          "data": {
            "image/png": "[encoded data removed]",
            "text/plain": [
              "<Figure size 432x288 with 1 Axes>"
            ]
          },
          "metadata": {
            "tags": []
          }
        }
      ]
    },
    {
      "cell_type": "code",
      "metadata": {
        "id": "ItOkBNpF7ZI0",
        "outputId": "9a91c93c-e978-4624-9bcb-33ed284ec916"
      },
      "source": [
        "print(DecisionTreeClassifier.__doc__)"
      ],
      "execution_count": null,
      "outputs": [
        {
          "output_type": "stream",
          "text": [
            "A decision tree classifier.\n",
            "\n",
            "    Read more in the :ref:`User Guide <tree>`.\n",
            "\n",
            "    Parameters\n",
            "    ----------\n",
            "    criterion : {\"gini\", \"entropy\"}, default=\"gini\"\n",
            "        The function to measure the quality of a split. Supported criteria are\n",
            "        \"gini\" for the Gini impurity and \"entropy\" for the information gain.\n",
            "\n",
            "    splitter : {\"best\", \"random\"}, default=\"best\"\n",
            "        The strategy used to choose the split at each node. Supported\n",
            "        strategies are \"best\" to choose the best split and \"random\" to choose\n",
            "        the best random split.\n",
            "\n",
            "    max_depth : int, default=None\n",
            "        The maximum depth of the tree. If None, then nodes are expanded until\n",
            "        all leaves are pure or until all leaves contain less than\n",
            "        min_samples_split samples.\n",
            "\n",
            "    min_samples_split : int or float, default=2\n",
            "        The minimum number of samples required to split an internal node:\n",
            "\n",
            "        - If int, then consider `min_samples_split` as the minimum number.\n",
            "        - If float, then `min_samples_split` is a fraction and\n",
            "          `ceil(min_samples_split * n_samples)` are the minimum\n",
            "          number of samples for each split.\n",
            "\n",
            "        .. versionchanged:: 0.18\n",
            "           Added float values for fractions.\n",
            "\n",
            "    min_samples_leaf : int or float, default=1\n",
            "        The minimum number of samples required to be at a leaf node.\n",
            "        A split point at any depth will only be considered if it leaves at\n",
            "        least ``min_samples_leaf`` training samples in each of the left and\n",
            "        right branches.  This may have the effect of smoothing the model,\n",
            "        especially in regression.\n",
            "\n",
            "        - If int, then consider `min_samples_leaf` as the minimum number.\n",
            "        - If float, then `min_samples_leaf` is a fraction and\n",
            "          `ceil(min_samples_leaf * n_samples)` are the minimum\n",
            "          number of samples for each node.\n",
            "\n",
            "        .. versionchanged:: 0.18\n",
            "           Added float values for fractions.\n",
            "\n",
            "    min_weight_fraction_leaf : float, default=0.0\n",
            "        The minimum weighted fraction of the sum total of weights (of all\n",
            "        the input samples) required to be at a leaf node. Samples have\n",
            "        equal weight when sample_weight is not provided.\n",
            "\n",
            "    max_features : int, float or {\"auto\", \"sqrt\", \"log2\"}, default=None\n",
            "        The number of features to consider when looking for the best split:\n",
            "\n",
            "            - If int, then consider `max_features` features at each split.\n",
            "            - If float, then `max_features` is a fraction and\n",
            "              `int(max_features * n_features)` features are considered at each\n",
            "              split.\n",
            "            - If \"auto\", then `max_features=sqrt(n_features)`.\n",
            "            - If \"sqrt\", then `max_features=sqrt(n_features)`.\n",
            "            - If \"log2\", then `max_features=log2(n_features)`.\n",
            "            - If None, then `max_features=n_features`.\n",
            "\n",
            "        Note: the search for a split does not stop until at least one\n",
            "        valid partition of the node samples is found, even if it requires to\n",
            "        effectively inspect more than ``max_features`` features.\n",
            "\n",
            "    random_state : int, RandomState instance or None, default=None\n",
            "        Controls the randomness of the estimator. The features are always\n",
            "        randomly permuted at each split, even if ``splitter`` is set to\n",
            "        ``\"best\"``. When ``max_features < n_features``, the algorithm will\n",
            "        select ``max_features`` at random at each split before finding the best\n",
            "        split among them. But the best found split may vary across different\n",
            "        runs, even if ``max_features=n_features``. That is the case, if the\n",
            "        improvement of the criterion is identical for several splits and one\n",
            "        split has to be selected at random. To obtain a deterministic behaviour\n",
            "        during fitting, ``random_state`` has to be fixed to an integer.\n",
            "        See :term:`Glossary <random_state>` for details.\n",
            "\n",
            "    max_leaf_nodes : int, default=None\n",
            "        Grow a tree with ``max_leaf_nodes`` in best-first fashion.\n",
            "        Best nodes are defined as relative reduction in impurity.\n",
            "        If None then unlimited number of leaf nodes.\n",
            "\n",
            "    min_impurity_decrease : float, default=0.0\n",
            "        A node will be split if this split induces a decrease of the impurity\n",
            "        greater than or equal to this value.\n",
            "\n",
            "        The weighted impurity decrease equation is the following::\n",
            "\n",
            "            N_t / N * (impurity - N_t_R / N_t * right_impurity\n",
            "                                - N_t_L / N_t * left_impurity)\n",
            "\n",
            "        where ``N`` is the total number of samples, ``N_t`` is the number of\n",
            "        samples at the current node, ``N_t_L`` is the number of samples in the\n",
            "        left child, and ``N_t_R`` is the number of samples in the right child.\n",
            "\n",
            "        ``N``, ``N_t``, ``N_t_R`` and ``N_t_L`` all refer to the weighted sum,\n",
            "        if ``sample_weight`` is passed.\n",
            "\n",
            "        .. versionadded:: 0.19\n",
            "\n",
            "    min_impurity_split : float, default=0\n",
            "        Threshold for early stopping in tree growth. A node will split\n",
            "        if its impurity is above the threshold, otherwise it is a leaf.\n",
            "\n",
            "        .. deprecated:: 0.19\n",
            "           ``min_impurity_split`` has been deprecated in favor of\n",
            "           ``min_impurity_decrease`` in 0.19. The default value of\n",
            "           ``min_impurity_split`` has changed from 1e-7 to 0 in 0.23 and it\n",
            "           will be removed in 1.0 (renaming of 0.25).\n",
            "           Use ``min_impurity_decrease`` instead.\n",
            "\n",
            "    class_weight : dict, list of dict or \"balanced\", default=None\n",
            "        Weights associated with classes in the form ``{class_label: weight}``.\n",
            "        If None, all classes are supposed to have weight one. For\n",
            "        multi-output problems, a list of dicts can be provided in the same\n",
            "        order as the columns of y.\n",
            "\n",
            "        Note that for multioutput (including multilabel) weights should be\n",
            "        defined for each class of every column in its own dict. For example,\n",
            "        for four-class multilabel classification weights should be\n",
            "        [{0: 1, 1: 1}, {0: 1, 1: 5}, {0: 1, 1: 1}, {0: 1, 1: 1}] instead of\n",
            "        [{1:1}, {2:5}, {3:1}, {4:1}].\n",
            "\n",
            "        The \"balanced\" mode uses the values of y to automatically adjust\n",
            "        weights inversely proportional to class frequencies in the input data\n",
            "        as ``n_samples / (n_classes * np.bincount(y))``\n",
            "\n",
            "        For multi-output, the weights of each column of y will be multiplied.\n",
            "\n",
            "        Note that these weights will be multiplied with sample_weight (passed\n",
            "        through the fit method) if sample_weight is specified.\n",
            "\n",
            "    ccp_alpha : non-negative float, default=0.0\n",
            "        Complexity parameter used for Minimal Cost-Complexity Pruning. The\n",
            "        subtree with the largest cost complexity that is smaller than\n",
            "        ``ccp_alpha`` will be chosen. By default, no pruning is performed. See\n",
            "        :ref:`minimal_cost_complexity_pruning` for details.\n",
            "\n",
            "        .. versionadded:: 0.22\n",
            "\n",
            "    Attributes\n",
            "    ----------\n",
            "    classes_ : ndarray of shape (n_classes,) or list of ndarray\n",
            "        The classes labels (single output problem),\n",
            "        or a list of arrays of class labels (multi-output problem).\n",
            "\n",
            "    feature_importances_ : ndarray of shape (n_features,)\n",
            "        The impurity-based feature importances.\n",
            "        The higher, the more important the feature.\n",
            "        The importance of a feature is computed as the (normalized)\n",
            "        total reduction of the criterion brought by that feature.  It is also\n",
            "        known as the Gini importance [4]_.\n",
            "\n",
            "        Warning: impurity-based feature importances can be misleading for\n",
            "        high cardinality features (many unique values). See\n",
            "        :func:`sklearn.inspection.permutation_importance` as an alternative.\n",
            "\n",
            "    max_features_ : int\n",
            "        The inferred value of max_features.\n",
            "\n",
            "    n_classes_ : int or list of int\n",
            "        The number of classes (for single output problems),\n",
            "        or a list containing the number of classes for each\n",
            "        output (for multi-output problems).\n",
            "\n",
            "    n_features_ : int\n",
            "        The number of features when ``fit`` is performed.\n",
            "\n",
            "    n_outputs_ : int\n",
            "        The number of outputs when ``fit`` is performed.\n",
            "\n",
            "    tree_ : Tree instance\n",
            "        The underlying Tree object. Please refer to\n",
            "        ``help(sklearn.tree._tree.Tree)`` for attributes of Tree object and\n",
            "        :ref:`sphx_glr_auto_examples_tree_plot_unveil_tree_structure.py`\n",
            "        for basic usage of these attributes.\n",
            "\n",
            "    See Also\n",
            "    --------\n",
            "    DecisionTreeRegressor : A decision tree regressor.\n",
            "\n",
            "    Notes\n",
            "    -----\n",
            "    The default values for the parameters controlling the size of the trees\n",
            "    (e.g. ``max_depth``, ``min_samples_leaf``, etc.) lead to fully grown and\n",
            "    unpruned trees which can potentially be very large on some data sets. To\n",
            "    reduce memory consumption, the complexity and size of the trees should be\n",
            "    controlled by setting those parameter values.\n",
            "\n",
            "    The :meth:`predict` method operates using the :func:`numpy.argmax`\n",
            "    function on the outputs of :meth:`predict_proba`. This means that in\n",
            "    case the highest predicted probabilities are tied, the classifier will\n",
            "    predict the tied class with the lowest index in :term:`classes_`.\n",
            "\n",
            "    References\n",
            "    ----------\n",
            "\n",
            "    .. [1] https://en.wikipedia.org/wiki/Decision_tree_learning\n",
            "\n",
            "    .. [2] L. Breiman, J. Friedman, R. Olshen, and C. Stone, \"Classification\n",
            "           and Regression Trees\", Wadsworth, Belmont, CA, 1984.\n",
            "\n",
            "    .. [3] T. Hastie, R. Tibshirani and J. Friedman. \"Elements of Statistical\n",
            "           Learning\", Springer, 2009.\n",
            "\n",
            "    .. [4] L. Breiman, and A. Cutler, \"Random Forests\",\n",
            "           https://www.stat.berkeley.edu/~breiman/RandomForests/cc_home.htm\n",
            "\n",
            "    Examples\n",
            "    --------\n",
            "    >>> from sklearn.datasets import load_iris\n",
            "    >>> from sklearn.model_selection import cross_val_score\n",
            "    >>> from sklearn.tree import DecisionTreeClassifier\n",
            "    >>> clf = DecisionTreeClassifier(random_state=0)\n",
            "    >>> iris = load_iris()\n",
            "    >>> cross_val_score(clf, iris.data, iris.target, cv=10)\n",
            "    ...                             # doctest: +SKIP\n",
            "    ...\n",
            "    array([ 1.     ,  0.93...,  0.86...,  0.93...,  0.93...,\n",
            "            0.93...,  0.93...,  1.     ,  0.93...,  1.      ])\n",
            "    \n"
          ],
          "name": "stdout"
        }
      ]
    },
    {
      "cell_type": "code",
      "metadata": {
        "id": "e1x6Atdb7ZI1"
      },
      "source": [
        "from keras.models import Sequential"
      ],
      "execution_count": null,
      "outputs": []
    },
    {
      "cell_type": "code",
      "metadata": {
        "id": "HvuFat5M7ZI1"
      },
      "source": [
        "from keras.layers import Dense"
      ],
      "execution_count": null,
      "outputs": []
    },
    {
      "cell_type": "code",
      "metadata": {
        "id": "NMsXJtwB7ZI1"
      },
      "source": [
        "from keras.optimizers import SGD, Adam"
      ],
      "execution_count": null,
      "outputs": []
    },
    {
      "cell_type": "code",
      "metadata": {
        "id": "qmrjmAgj7ZI1"
      },
      "source": [
        "model = Sequential()"
      ],
      "execution_count": null,
      "outputs": []
    },
    {
      "cell_type": "code",
      "metadata": {
        "id": "XhOKn_wC7ZI2",
        "outputId": "10d8c1ff-d175-4aba-cd1d-8ecdc62f20bd"
      },
      "source": [
        "model.add(Dense(10,input_shape=(4,),activation='tanh'))\n",
        "model.add(Dense(8,activation='sigmoid'))\n",
        "model.add(Dense(12,activation='tanh'))\n",
        "model.add(Dense(3,activation='softmax'))"
      ],
      "execution_count": null,
      "outputs": [
        {
          "output_type": "stream",
          "text": [
            "WARNING:tensorflow:From C:\\Users\\Microsoft\\Anaconda3\\lib\\site-packages\\tensorflow\\python\\framework\\op_def_library.py:263: colocate_with (from tensorflow.python.framework.ops) is deprecated and will be removed in a future version.\n",
            "Instructions for updating:\n",
            "Colocations handled automatically by placer.\n"
          ],
          "name": "stdout"
        }
      ]
    },
    {
      "cell_type": "code",
      "metadata": {
        "id": "2ymDfxUC7ZI2"
      },
      "source": [
        "model.compile(Adam(lr=0.04),\n",
        "              'categorical_crossentropy',\n",
        "              metrics=['accuracy'])"
      ],
      "execution_count": null,
      "outputs": []
    },
    {
      "cell_type": "code",
      "metadata": {
        "id": "WN-XbbtF7ZI2",
        "outputId": "fce10b2f-ccae-41ab-9c50-690ca5d02b8d"
      },
      "source": [
        "model.summary()\n"
      ],
      "execution_count": null,
      "outputs": [
        {
          "output_type": "stream",
          "text": [
            "_________________________________________________________________\n",
            "Layer (type)                 Output Shape              Param #   \n",
            "=================================================================\n",
            "dense_1 (Dense)              (None, 10)                50        \n",
            "_________________________________________________________________\n",
            "dense_2 (Dense)              (None, 8)                 88        \n",
            "_________________________________________________________________\n",
            "dense_3 (Dense)              (None, 12)                108       \n",
            "_________________________________________________________________\n",
            "dense_4 (Dense)              (None, 3)                 39        \n",
            "=================================================================\n",
            "Total params: 285\n",
            "Trainable params: 285\n",
            "Non-trainable params: 0\n",
            "_________________________________________________________________\n"
          ],
          "name": "stdout"
        }
      ]
    },
    {
      "cell_type": "code",
      "metadata": {
        "id": "BTOUTgT77ZI3"
      },
      "source": [
        ""
      ],
      "execution_count": null,
      "outputs": []
    },
    {
      "cell_type": "code",
      "metadata": {
        "id": "Wzy7Zy2t7ZI3",
        "outputId": "9908429b-2ca2-4252-ae5f-0d70e4c00f55"
      },
      "source": [
        "model.fit(X_train,y_train,epochs=50)"
      ],
      "execution_count": null,
      "outputs": [
        {
          "output_type": "stream",
          "text": [
            "WARNING:tensorflow:From C:\\Users\\Microsoft\\Anaconda3\\lib\\site-packages\\tensorflow\\python\\ops\\math_ops.py:3066: to_int32 (from tensorflow.python.ops.math_ops) is deprecated and will be removed in a future version.\n",
            "Instructions for updating:\n",
            "Use tf.cast instead.\n",
            "Epoch 1/50\n",
            "105/105 [==============================] - 8s 76ms/step - loss: 1.2016 - acc: 0.2857\n",
            "Epoch 2/50\n",
            "105/105 [==============================] - 0s 486us/step - loss: 1.0643 - acc: 0.4000\n",
            "Epoch 3/50\n",
            "105/105 [==============================] - 0s 2ms/step - loss: 0.9827 - acc: 0.6190\n",
            "Epoch 4/50\n",
            "105/105 [==============================] - 0s 543us/step - loss: 0.7645 - acc: 0.8095\n",
            "Epoch 5/50\n",
            "105/105 [==============================] - ETA: 0s - loss: 0.5995 - acc: 0.718 - 0s 420us/step - loss: 0.5727 - acc: 0.6571\n",
            "Epoch 6/50\n",
            "105/105 [==============================] - 0s 415us/step - loss: 0.4342 - acc: 0.8476\n",
            "Epoch 7/50\n",
            "105/105 [==============================] - 0s 448us/step - loss: 0.3792 - acc: 0.8190\n",
            "Epoch 8/50\n",
            "105/105 [==============================] - 0s 472us/step - loss: 0.2658 - acc: 0.9429\n",
            "Epoch 9/50\n",
            "105/105 [==============================] - 0s 2ms/step - loss: 0.2147 - acc: 0.9714\n",
            "Epoch 10/50\n",
            "105/105 [==============================] - 0s 548us/step - loss: 0.1767 - acc: 0.9524\n",
            "Epoch 11/50\n",
            "105/105 [==============================] - 0s 1ms/step - loss: 0.1269 - acc: 0.9714\n",
            "Epoch 12/50\n",
            "105/105 [==============================] - 0s 548us/step - loss: 0.1047 - acc: 0.9714\n",
            "Epoch 13/50\n",
            "105/105 [==============================] - 0s 2ms/step - loss: 0.0954 - acc: 0.9714\n",
            "Epoch 14/50\n",
            "105/105 [==============================] - 0s 3ms/step - loss: 0.0822 - acc: 0.9619\n",
            "Epoch 15/50\n",
            "105/105 [==============================] - 0s 572us/step - loss: 0.1371 - acc: 0.9524\n",
            "Epoch 16/50\n",
            "105/105 [==============================] - 0s 968us/step - loss: 0.1760 - acc: 0.9429\n",
            "Epoch 17/50\n",
            "105/105 [==============================] - 0s 668us/step - loss: 0.2843 - acc: 0.8952\n",
            "Epoch 18/50\n",
            "105/105 [==============================] - 0s 415us/step - loss: 0.3763 - acc: 0.8762\n",
            "Epoch 19/50\n",
            "105/105 [==============================] - ETA: 0s - loss: 0.5006 - acc: 0.781 - 0s 1ms/step - loss: 0.3549 - acc: 0.8381\n",
            "Epoch 20/50\n",
            "105/105 [==============================] - 0s 381us/step - loss: 0.1853 - acc: 0.9238\n",
            "Epoch 21/50\n",
            "105/105 [==============================] - 0s 1ms/step - loss: 0.1625 - acc: 0.9143\n",
            "Epoch 22/50\n",
            "105/105 [==============================] - 0s 396us/step - loss: 0.1435 - acc: 0.9429\n",
            "Epoch 23/50\n",
            "105/105 [==============================] - 0s 1ms/step - loss: 0.0977 - acc: 0.9619\n",
            "Epoch 24/50\n",
            "105/105 [==============================] - 0s 481us/step - loss: 0.0882 - acc: 0.9810\n",
            "Epoch 25/50\n",
            "105/105 [==============================] - 0s 2ms/step - loss: 0.1102 - acc: 0.9524\n",
            "Epoch 26/50\n",
            "105/105 [==============================] - 0s 405us/step - loss: 0.0853 - acc: 0.9714\n",
            "Epoch 27/50\n",
            "105/105 [==============================] - 0s 963us/step - loss: 0.0807 - acc: 0.9619\n",
            "Epoch 28/50\n",
            "105/105 [==============================] - 0s 582us/step - loss: 0.0774 - acc: 0.9714\n",
            "Epoch 29/50\n",
            "105/105 [==============================] - 0s 434us/step - loss: 0.1952 - acc: 0.9524\n",
            "Epoch 30/50\n",
            "105/105 [==============================] - 0s 1ms/step - loss: 0.0690 - acc: 0.9810\n",
            "Epoch 31/50\n",
            "105/105 [==============================] - 0s 458us/step - loss: 0.0744 - acc: 0.9810\n",
            "Epoch 32/50\n",
            "105/105 [==============================] - 0s 2ms/step - loss: 0.1077 - acc: 0.9524\n",
            "Epoch 33/50\n",
            "105/105 [==============================] - 0s 500us/step - loss: 0.0786 - acc: 0.9810\n",
            "Epoch 34/50\n",
            "105/105 [==============================] - 0s 1ms/step - loss: 0.0637 - acc: 0.9810\n",
            "Epoch 35/50\n",
            "105/105 [==============================] - 0s 649us/step - loss: 0.0712 - acc: 0.9714\n",
            "Epoch 36/50\n",
            "105/105 [==============================] - 0s 2ms/step - loss: 0.0738 - acc: 0.9714\n",
            "Epoch 37/50\n",
            "105/105 [==============================] - 0s 405us/step - loss: 0.0573 - acc: 0.9810\n",
            "Epoch 38/50\n",
            "105/105 [==============================] - 0s 3ms/step - loss: 0.0492 - acc: 0.9905\n",
            "Epoch 39/50\n",
            "105/105 [==============================] - 0s 558us/step - loss: 0.0585 - acc: 0.9810\n",
            "Epoch 40/50\n",
            "105/105 [==============================] - 0s 2ms/step - loss: 0.0507 - acc: 0.9810\n",
            "Epoch 41/50\n",
            "105/105 [==============================] - 0s 586us/step - loss: 0.0551 - acc: 0.9810\n",
            "Epoch 42/50\n",
            "105/105 [==============================] - 0s 2ms/step - loss: 0.0468 - acc: 0.9810\n",
            "Epoch 43/50\n",
            "105/105 [==============================] - 0s 434us/step - loss: 0.0535 - acc: 0.9810\n",
            "Epoch 44/50\n",
            "105/105 [==============================] - 0s 2ms/step - loss: 0.0550 - acc: 0.9905\n",
            "Epoch 45/50\n",
            "105/105 [==============================] - 0s 405us/step - loss: 0.0469 - acc: 0.9810\n",
            "Epoch 46/50\n",
            "105/105 [==============================] - 0s 1ms/step - loss: 0.0614 - acc: 0.9810\n",
            "Epoch 47/50\n",
            "105/105 [==============================] - 0s 411us/step - loss: 0.0627 - acc: 0.9714\n",
            "Epoch 48/50\n",
            "105/105 [==============================] - 0s 377us/step - loss: 0.1113 - acc: 0.9619\n",
            "Epoch 49/50\n",
            "105/105 [==============================] - 0s 930us/step - loss: 0.1243 - acc: 0.9524\n",
            "Epoch 50/50\n",
            "105/105 [==============================] - 0s 386us/step - loss: 0.1154 - acc: 0.9619\n"
          ],
          "name": "stdout"
        },
        {
          "output_type": "execute_result",
          "data": {
            "text/plain": [
              "<keras.callbacks.History at 0x23eadc937f0>"
            ]
          },
          "metadata": {
            "tags": []
          },
          "execution_count": 37
        }
      ]
    },
    {
      "cell_type": "code",
      "metadata": {
        "id": "FENHiQCc7ZI3"
      },
      "source": [
        "from sklearn.metrics import classification_report"
      ],
      "execution_count": null,
      "outputs": []
    },
    {
      "cell_type": "code",
      "metadata": {
        "id": "hfbgjqAA7ZI4",
        "outputId": "0e79b983-f658-44b8-b8a5-00076d834d81"
      },
      "source": [
        "y_pred = model.predict(X_test)\n",
        "\n",
        "y_test_class = np.argmax(y_test,axis=1)\n",
        "y_pred_class = np.argmax(y_pred,axis=1)\n",
        "print(classification_report(y_test_class,y_pred_class))"
      ],
      "execution_count": null,
      "outputs": [
        {
          "output_type": "stream",
          "text": [
            "              precision    recall  f1-score   support\n",
            "\n",
            "           0       1.00      1.00      1.00        18\n",
            "           1       0.92      0.92      0.92        13\n",
            "           2       0.93      0.93      0.93        14\n",
            "\n",
            "    accuracy                           0.96        45\n",
            "   macro avg       0.95      0.95      0.95        45\n",
            "weighted avg       0.96      0.96      0.96        45\n",
            "\n"
          ],
          "name": "stdout"
        }
      ]
    },
    {
      "cell_type": "code",
      "metadata": {
        "id": "hT6cObsS7ZI4"
      },
      "source": [
        ""
      ],
      "execution_count": null,
      "outputs": []
    }
  ]
}