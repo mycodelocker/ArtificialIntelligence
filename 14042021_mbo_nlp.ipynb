{
  "nbformat": 4,
  "nbformat_minor": 0,
  "metadata": {
    "kernelspec": {
      "display_name": "Python 3",
      "language": "python",
      "name": "python3"
    },
    "language_info": {
      "codemirror_mode": {
        "name": "ipython",
        "version": 3
      },
      "file_extension": ".py",
      "mimetype": "text/x-python",
      "name": "python",
      "nbconvert_exporter": "python",
      "pygments_lexer": "ipython3",
      "version": "3.6.5"
    },
    "colab": {
      "name": "14042021_mbo_nlp.ipynb",
      "provenance": [],
      "include_colab_link": true
    }
  },
  "cells": [
    {
      "cell_type": "markdown",
      "metadata": {
        "id": "view-in-github",
        "colab_type": "text"
      },
      "source": [
        "<a href=\"https://colab.research.google.com/github/mycodelocker/ArtificialIntelligence/blob/main/14042021_mbo_nlp.ipynb\" target=\"_parent\"><img src=\"https://colab.research.google.com/assets/colab-badge.svg\" alt=\"Open In Colab\"/></a>"
      ]
    },
    {
      "cell_type": "code",
      "metadata": {
        "id": "iE4U2reL7ZKj",
        "outputId": "e18352a9-b315-4fa1-d706-951456f588de"
      },
      "source": [
        "from nltk.book import text4"
      ],
      "execution_count": null,
      "outputs": [
        {
          "output_type": "stream",
          "text": [
            "*** Introductory Examples for the NLTK Book ***\n",
            "Loading text1, ..., text9 and sent1, ..., sent9\n",
            "Type the name of the text or sentence to view it.\n",
            "Type: 'texts()' or 'sents()' to list the materials.\n",
            "text1: Moby Dick by Herman Melville 1851\n",
            "text2: Sense and Sensibility by Jane Austen 1811\n",
            "text3: The Book of Genesis\n",
            "text4: Inaugural Address Corpus\n",
            "text5: Chat Corpus\n",
            "text6: Monty Python and the Holy Grail\n",
            "text7: Wall Street Journal\n",
            "text8: Personals Corpus\n",
            "text9: The Man Who Was Thursday by G . K . Chesterton 1908\n"
          ],
          "name": "stdout"
        }
      ]
    },
    {
      "cell_type": "code",
      "metadata": {
        "id": "lk5futw27ZKl"
      },
      "source": [
        "from nltk.corpus import inaugural"
      ],
      "execution_count": null,
      "outputs": []
    },
    {
      "cell_type": "code",
      "metadata": {
        "id": "9mTA8w3s7ZKm",
        "outputId": "7b52681a-1be6-41b8-bea1-6ba256aed74a"
      },
      "source": [
        "inaugural.fileids()[-2:]"
      ],
      "execution_count": null,
      "outputs": [
        {
          "output_type": "execute_result",
          "data": {
            "text/plain": [
              "['2005-Bush.txt', '2009-Obama.txt']"
            ]
          },
          "metadata": {
            "tags": []
          },
          "execution_count": 5
        }
      ]
    },
    {
      "cell_type": "code",
      "metadata": {
        "id": "4aZsP7At7ZKn"
      },
      "source": [
        "import nltk"
      ],
      "execution_count": null,
      "outputs": []
    },
    {
      "cell_type": "code",
      "metadata": {
        "id": "UJ4anj7G7ZKn",
        "outputId": "dd02c10a-bda5-475f-e43d-449f945455c3"
      },
      "source": [
        "cfd = nltk.ConditionalFreqDist(\n",
        "    (target, fileid[:4])\n",
        "    for fileid in inaugural.fileids()[-20:]\n",
        "    for w in inaugural.words(fileid)\n",
        "    for target in ['america', 'war']\n",
        "    if w.lower().startswith(target))\n",
        "cfd.plot()"
      ],
      "execution_count": null,
      "outputs": [
        {
          "output_type": "display_data",
          "data": {
            "image/png": "[encoded data removed]",
            "text/plain": [
              "<Figure size 432x288 with 1 Axes>"
            ]
          },
          "metadata": {
            "tags": []
          }
        }
      ]
    },
    {
      "cell_type": "code",
      "metadata": {
        "id": "zoiJfSNT7ZKo"
      },
      "source": [
        "%matplotlib inline"
      ],
      "execution_count": null,
      "outputs": []
    },
    {
      "cell_type": "code",
      "metadata": {
        "id": "hPBkK_df7ZKo"
      },
      "source": [
        "import numpy as np\n",
        "import pandas as pd"
      ],
      "execution_count": null,
      "outputs": []
    },
    {
      "cell_type": "code",
      "metadata": {
        "id": "Hgu54Bu_7ZKp"
      },
      "source": [
        "import matplotlib.pyplot as plt\n",
        "import seaborn as sns"
      ],
      "execution_count": null,
      "outputs": []
    },
    {
      "cell_type": "code",
      "metadata": {
        "id": "PD6RIgxO7ZKp"
      },
      "source": [
        "from mlxtend.frequent_patterns import apriori"
      ],
      "execution_count": null,
      "outputs": []
    },
    {
      "cell_type": "code",
      "metadata": {
        "id": "YdLjESym7ZKq"
      },
      "source": [
        "from mlxtend.frequent_patterns import association_rules"
      ],
      "execution_count": null,
      "outputs": []
    },
    {
      "cell_type": "code",
      "metadata": {
        "id": "VOQex91O7ZKq"
      },
      "source": [
        "data = pd.read_csv(\"Market_Basket_Optimisation.csv\", header=None)"
      ],
      "execution_count": null,
      "outputs": []
    },
    {
      "cell_type": "code",
      "metadata": {
        "id": "zdtez6il7ZKq",
        "outputId": "21e00663-b861-435c-aa0f-bd090c73f713"
      },
      "source": [
        "print(data.describe())"
      ],
      "execution_count": null,
      "outputs": [
        {
          "output_type": "stream",
          "text": [
            "                   0              1              2              3          4   \\\n",
            "count            7501           5747           4389           3345       2529   \n",
            "unique            115            117            115            114        110   \n",
            "top     mineral water  mineral water  mineral water  mineral water  green tea   \n",
            "freq              577            484            375            201        153   \n",
            "\n",
            "                  5          6          7          8          9   \\\n",
            "count           1864       1369        981        654        395   \n",
            "unique           106        102         98         88         80   \n",
            "top     french fries  green tea  green tea  green tea  green tea   \n",
            "freq             107         96         67         57         31   \n",
            "\n",
            "                    10         11         12         13         14    15  \\\n",
            "count              256        154         87         47         25     8   \n",
            "unique              66         50         43         28         19     8   \n",
            "top     low fat yogurt  green tea  green tea  green tea  magazines  cake   \n",
            "freq                22         15          8          4          3     1   \n",
            "\n",
            "                     16           17       18         19  \n",
            "count                 4            4        3          1  \n",
            "unique                3            3        3          1  \n",
            "top     frozen smoothie  protein bar  cereals  olive oil  \n",
            "freq                  2            2        1          1  \n"
          ],
          "name": "stdout"
        }
      ]
    },
    {
      "cell_type": "code",
      "metadata": {
        "id": "Ku40g_n_7ZKr",
        "outputId": "b935367a-4d03-4ea1-850f-4dced842d7ab"
      },
      "source": [
        "plt.rcParams['figure.figsize'] = (20,8)\n",
        "data[0].value_counts().head(30).plot(kind='bar')"
      ],
      "execution_count": null,
      "outputs": [
        {
          "output_type": "execute_result",
          "data": {
            "text/plain": [
              "<AxesSubplot:>"
            ]
          },
          "metadata": {
            "tags": []
          },
          "execution_count": 17
        },
        {
          "output_type": "display_data",
          "data": {
            "image/png": "[encoded data removed]",
            "text/plain": [
              "<Figure size 1440x576 with 1 Axes>"
            ]
          },
          "metadata": {
            "tags": []
          }
        }
      ]
    },
    {
      "cell_type": "code",
      "metadata": {
        "id": "Mj-XyGkN7ZKr",
        "outputId": "5d263285-5c90-40c7-995d-6889c4ed603c"
      },
      "source": [
        "y = data[0].value_counts().head(50).to_frame()\n",
        "print(y.index)"
      ],
      "execution_count": null,
      "outputs": [
        {
          "output_type": "stream",
          "text": [
            "Index(['mineral water', 'burgers', 'turkey', 'chocolate', 'frozen vegetables',\n",
            "       'spaghetti', 'shrimp', 'grated cheese', 'eggs', 'cookies',\n",
            "       'french fries', 'herb & pepper', 'ground beef', 'tomatoes', 'milk',\n",
            "       'escalope', 'fresh tuna', 'red wine', 'ham', 'cake', 'green tea',\n",
            "       'whole wheat pasta', 'pancakes', 'soup', 'muffins', 'energy bar',\n",
            "       'olive oil', 'champagne', 'pepper', 'avocado', 'butter',\n",
            "       'parmesan cheese', 'whole wheat rice', 'low fat yogurt', 'chicken',\n",
            "       'vegetables mix', 'pickles', 'meatballs', 'frozen smoothie',\n",
            "       'yogurt cake', 'salmon', 'dessert wine', 'hot dogs', 'honey',\n",
            "       'candy bars', 'cereals', 'tomato sauce', 'strawberries', 'yams', 'oil'],\n",
            "      dtype='object')\n"
          ],
          "name": "stdout"
        }
      ]
    },
    {
      "cell_type": "code",
      "metadata": {
        "id": "jsCED9SK7ZKs"
      },
      "source": [
        "data['food'] = 'Food'\n",
        "food = data.truncate(before=-1,after=15)"
      ],
      "execution_count": null,
      "outputs": []
    },
    {
      "cell_type": "code",
      "metadata": {
        "id": "WuTC6DTb7ZKt"
      },
      "source": [
        "import networkx as nx"
      ],
      "execution_count": null,
      "outputs": []
    },
    {
      "cell_type": "code",
      "metadata": {
        "id": "xlVMducZ7ZKu"
      },
      "source": [
        "food = nx.from_pandas_edgelist(food,source='food',target=0, edge_attr=True)"
      ],
      "execution_count": null,
      "outputs": []
    },
    {
      "cell_type": "code",
      "metadata": {
        "id": "au7V-UaM7ZKu",
        "outputId": "27c46629-00c8-4912-dea6-c11b92508277"
      },
      "source": [
        "plt.rcParams['figure.figsize'] = (20,20)\n",
        "pos = nx.spring_layout(food)\n",
        "nx.draw_networkx_nodes(food,pos,node_size=15000)\n",
        "nx.draw_networkx_labels(food,pos)"
      ],
      "execution_count": null,
      "outputs": [
        {
          "output_type": "execute_result",
          "data": {
            "text/plain": [
              "{'Food': Text(-0.011631222357796534, -0.00476541691724009, 'Food'),\n",
              " 'shrimp': Text(-0.3229037229861586, 0.8799067430619705, 'shrimp'),\n",
              " 'burgers': Text(-0.3277295259807413, -0.8982294069446961, 'burgers'),\n",
              " 'chutney': Text(0.6430476824572038, 0.7761623526938378, 'chutney'),\n",
              " 'turkey': Text(0.5544538753267361, -0.7559461712989218, 'turkey'),\n",
              " 'mineral water': Text(-0.9253058499453625, -0.23691736690225457, 'mineral water'),\n",
              " 'low fat yogurt': Text(0.12887419201727207, -0.9246565362957017, 'low fat yogurt'),\n",
              " 'whole wheat pasta': Text(0.1428891057772632, 0.9207925998220576, 'whole wheat pasta'),\n",
              " 'soup': Text(0.5735826778310781, 0.307594655637007, 'soup'),\n",
              " 'frozen vegetables': Text(-0.9064769338607725, 0.21807562599011784, 'frozen vegetables'),\n",
              " 'french fries': Text(1.0, 0.10708539130474755, 'french fries'),\n",
              " 'eggs': Text(-0.7092575078656169, 0.6287241881645215, 'eggs'),\n",
              " 'cookies': Text(-0.6896924286706769, -0.6240775656690637, 'cookies'),\n",
              " 'spaghetti': Text(0.8501496582575727, -0.39374909264638447, 'spaghetti')}"
            ]
          },
          "metadata": {
            "tags": []
          },
          "execution_count": 23
        },
        {
          "output_type": "display_data",
          "data": {
            "image/png": "[encoded data removed]",
            "text/plain": [
              "<Figure size 1440x1440 with 1 Axes>"
            ]
          },
          "metadata": {
            "tags": []
          }
        }
      ]
    },
    {
      "cell_type": "code",
      "metadata": {
        "id": "wGjzOyO47ZKv"
      },
      "source": [
        "trans = []\n",
        "for i in range(7501):\n",
        "    trans.append([str(data.values[i,j]) for j in range(20)])"
      ],
      "execution_count": null,
      "outputs": []
    },
    {
      "cell_type": "code",
      "metadata": {
        "id": "0xQeCUSM7ZKv"
      },
      "source": [
        "trans = np.array(trans)"
      ],
      "execution_count": null,
      "outputs": []
    },
    {
      "cell_type": "code",
      "metadata": {
        "id": "yzdGwnkA7ZKv"
      },
      "source": [
        "from mlxtend.preprocessing import TransactionEncoder\n",
        "te = TransactionEncoder()"
      ],
      "execution_count": null,
      "outputs": []
    },
    {
      "cell_type": "code",
      "metadata": {
        "id": "w0pHq8b87ZKw"
      },
      "source": [
        "data = te.fit_transform(trans)\n",
        "data = pd.DataFrame(data,columns=te.columns_)"
      ],
      "execution_count": null,
      "outputs": []
    },
    {
      "cell_type": "code",
      "metadata": {
        "id": "fIQ-ImmH7ZKw",
        "outputId": "0ff0cd67-26ab-4297-b4b9-5a937d766dee"
      },
      "source": [
        "print(data.head())"
      ],
      "execution_count": null,
      "outputs": [
        {
          "output_type": "stream",
          "text": [
            "    asparagus  almonds  antioxydant juice  asparagus  avocado  babies food  \\\n",
            "0       False     True               True      False     True        False   \n",
            "1       False    False              False      False    False        False   \n",
            "2       False    False              False      False    False        False   \n",
            "3       False    False              False      False     True        False   \n",
            "4       False    False              False      False    False        False   \n",
            "\n",
            "   bacon  barbecue sauce  black tea  blueberries    ...     turkey  \\\n",
            "0  False           False      False        False    ...      False   \n",
            "1  False           False      False        False    ...      False   \n",
            "2  False           False      False        False    ...      False   \n",
            "3  False           False      False        False    ...       True   \n",
            "4  False           False      False        False    ...      False   \n",
            "\n",
            "   vegetables mix  water spray  white wine  whole weat flour  \\\n",
            "0            True        False       False              True   \n",
            "1           False        False       False             False   \n",
            "2           False        False       False             False   \n",
            "3           False        False       False             False   \n",
            "4           False        False       False             False   \n",
            "\n",
            "   whole wheat pasta  whole wheat rice   yams  yogurt cake  zucchini  \n",
            "0              False             False   True        False     False  \n",
            "1              False             False  False        False     False  \n",
            "2              False             False  False        False     False  \n",
            "3              False             False  False        False     False  \n",
            "4              False              True  False        False     False  \n",
            "\n",
            "[5 rows x 121 columns]\n"
          ],
          "name": "stdout"
        }
      ]
    },
    {
      "cell_type": "code",
      "metadata": {
        "id": "OrW75g8p7ZKw"
      },
      "source": [
        "data = data.loc[:,['mineral water', 'burgers', 'turkey', 'chocolate', 'frozen vegetables',\n",
        "       'spaghetti', 'shrimp', 'grated cheese', 'eggs', 'cookies',\n",
        "       'french fries', 'herb & pepper', 'ground beef', 'tomatoes', 'milk',\n",
        "       'escalope', 'fresh tuna', 'red wine', 'ham', 'cake', 'green tea',\n",
        "       'whole wheat pasta', 'pancakes', 'soup', 'muffins', 'energy bar',\n",
        "       'olive oil', 'champagne', 'pepper', 'avocado', 'butter',\n",
        "       'parmesan cheese', 'whole wheat rice', 'low fat yogurt', 'chicken',\n",
        "       'vegetables mix', 'pickles', 'meatballs', 'frozen smoothie',\n",
        "       'yogurt cake', 'salmon', 'dessert wine', 'hot dogs', 'honey',\n",
        "       'candy bars', 'cereals', 'tomato sauce', 'strawberries', 'yams', 'oil']]"
      ],
      "execution_count": null,
      "outputs": []
    },
    {
      "cell_type": "code",
      "metadata": {
        "id": "hcXbkv_F7ZKx",
        "outputId": "854890f2-6d4a-416f-9c5d-e80390cd6426"
      },
      "source": [
        "apriori(data,min_support=0.01,use_colnames=True)"
      ],
      "execution_count": null,
      "outputs": [
        {
          "output_type": "execute_result",
          "data": {
            "text/html": [
              "<div>\n",
              "<style scoped>\n",
              "    .dataframe tbody tr th:only-of-type {\n",
              "        vertical-align: middle;\n",
              "    }\n",
              "\n",
              "    .dataframe tbody tr th {\n",
              "        vertical-align: top;\n",
              "    }\n",
              "\n",
              "    .dataframe thead th {\n",
              "        text-align: right;\n",
              "    }\n",
              "</style>\n",
              "<table border=\"1\" class=\"dataframe\">\n",
              "  <thead>\n",
              "    <tr style=\"text-align: right;\">\n",
              "      <th></th>\n",
              "      <th>support</th>\n",
              "      <th>itemsets</th>\n",
              "    </tr>\n",
              "  </thead>\n",
              "  <tbody>\n",
              "    <tr>\n",
              "      <th>0</th>\n",
              "      <td>0.238368</td>\n",
              "      <td>(mineral water)</td>\n",
              "    </tr>\n",
              "    <tr>\n",
              "      <th>1</th>\n",
              "      <td>0.087188</td>\n",
              "      <td>(burgers)</td>\n",
              "    </tr>\n",
              "    <tr>\n",
              "      <th>2</th>\n",
              "      <td>0.062525</td>\n",
              "      <td>(turkey)</td>\n",
              "    </tr>\n",
              "    <tr>\n",
              "      <th>3</th>\n",
              "      <td>0.163845</td>\n",
              "      <td>(chocolate)</td>\n",
              "    </tr>\n",
              "    <tr>\n",
              "      <th>4</th>\n",
              "      <td>0.095321</td>\n",
              "      <td>(frozen vegetables)</td>\n",
              "    </tr>\n",
              "    <tr>\n",
              "      <th>5</th>\n",
              "      <td>0.174110</td>\n",
              "      <td>(spaghetti)</td>\n",
              "    </tr>\n",
              "    <tr>\n",
              "      <th>6</th>\n",
              "      <td>0.071457</td>\n",
              "      <td>(shrimp)</td>\n",
              "    </tr>\n",
              "    <tr>\n",
              "      <th>7</th>\n",
              "      <td>0.052393</td>\n",
              "      <td>(grated cheese)</td>\n",
              "    </tr>\n",
              "    <tr>\n",
              "      <th>8</th>\n",
              "      <td>0.179709</td>\n",
              "      <td>(eggs)</td>\n",
              "    </tr>\n",
              "    <tr>\n",
              "      <th>9</th>\n",
              "      <td>0.080389</td>\n",
              "      <td>(cookies)</td>\n",
              "    </tr>\n",
              "    <tr>\n",
              "      <th>10</th>\n",
              "      <td>0.170911</td>\n",
              "      <td>(french fries)</td>\n",
              "    </tr>\n",
              "    <tr>\n",
              "      <th>11</th>\n",
              "      <td>0.049460</td>\n",
              "      <td>(herb &amp; pepper)</td>\n",
              "    </tr>\n",
              "    <tr>\n",
              "      <th>12</th>\n",
              "      <td>0.098254</td>\n",
              "      <td>(ground beef)</td>\n",
              "    </tr>\n",
              "    <tr>\n",
              "      <th>13</th>\n",
              "      <td>0.068391</td>\n",
              "      <td>(tomatoes)</td>\n",
              "    </tr>\n",
              "    <tr>\n",
              "      <th>14</th>\n",
              "      <td>0.129583</td>\n",
              "      <td>(milk)</td>\n",
              "    </tr>\n",
              "    <tr>\n",
              "      <th>15</th>\n",
              "      <td>0.079323</td>\n",
              "      <td>(escalope)</td>\n",
              "    </tr>\n",
              "    <tr>\n",
              "      <th>16</th>\n",
              "      <td>0.022264</td>\n",
              "      <td>(fresh tuna)</td>\n",
              "    </tr>\n",
              "    <tr>\n",
              "      <th>17</th>\n",
              "      <td>0.028130</td>\n",
              "      <td>(red wine)</td>\n",
              "    </tr>\n",
              "    <tr>\n",
              "      <th>18</th>\n",
              "      <td>0.026530</td>\n",
              "      <td>(ham)</td>\n",
              "    </tr>\n",
              "    <tr>\n",
              "      <th>19</th>\n",
              "      <td>0.081056</td>\n",
              "      <td>(cake)</td>\n",
              "    </tr>\n",
              "    <tr>\n",
              "      <th>20</th>\n",
              "      <td>0.132116</td>\n",
              "      <td>(green tea)</td>\n",
              "    </tr>\n",
              "    <tr>\n",
              "      <th>21</th>\n",
              "      <td>0.029463</td>\n",
              "      <td>(whole wheat pasta)</td>\n",
              "    </tr>\n",
              "    <tr>\n",
              "      <th>22</th>\n",
              "      <td>0.095054</td>\n",
              "      <td>(pancakes)</td>\n",
              "    </tr>\n",
              "    <tr>\n",
              "      <th>23</th>\n",
              "      <td>0.050527</td>\n",
              "      <td>(soup)</td>\n",
              "    </tr>\n",
              "    <tr>\n",
              "      <th>24</th>\n",
              "      <td>0.024130</td>\n",
              "      <td>(muffins)</td>\n",
              "    </tr>\n",
              "    <tr>\n",
              "      <th>25</th>\n",
              "      <td>0.027063</td>\n",
              "      <td>(energy bar)</td>\n",
              "    </tr>\n",
              "    <tr>\n",
              "      <th>26</th>\n",
              "      <td>0.065858</td>\n",
              "      <td>(olive oil)</td>\n",
              "    </tr>\n",
              "    <tr>\n",
              "      <th>27</th>\n",
              "      <td>0.046794</td>\n",
              "      <td>(champagne)</td>\n",
              "    </tr>\n",
              "    <tr>\n",
              "      <th>28</th>\n",
              "      <td>0.026530</td>\n",
              "      <td>(pepper)</td>\n",
              "    </tr>\n",
              "    <tr>\n",
              "      <th>29</th>\n",
              "      <td>0.033329</td>\n",
              "      <td>(avocado)</td>\n",
              "    </tr>\n",
              "    <tr>\n",
              "      <th>...</th>\n",
              "      <td>...</td>\n",
              "      <td>...</td>\n",
              "    </tr>\n",
              "    <tr>\n",
              "      <th>193</th>\n",
              "      <td>0.016531</td>\n",
              "      <td>(pancakes, milk)</td>\n",
              "    </tr>\n",
              "    <tr>\n",
              "      <th>194</th>\n",
              "      <td>0.015198</td>\n",
              "      <td>(soup, milk)</td>\n",
              "    </tr>\n",
              "    <tr>\n",
              "      <th>195</th>\n",
              "      <td>0.017064</td>\n",
              "      <td>(olive oil, milk)</td>\n",
              "    </tr>\n",
              "    <tr>\n",
              "      <th>196</th>\n",
              "      <td>0.011865</td>\n",
              "      <td>(whole wheat rice, milk)</td>\n",
              "    </tr>\n",
              "    <tr>\n",
              "      <th>197</th>\n",
              "      <td>0.013198</td>\n",
              "      <td>(low fat yogurt, milk)</td>\n",
              "    </tr>\n",
              "    <tr>\n",
              "      <th>198</th>\n",
              "      <td>0.014798</td>\n",
              "      <td>(chicken, milk)</td>\n",
              "    </tr>\n",
              "    <tr>\n",
              "      <th>199</th>\n",
              "      <td>0.014265</td>\n",
              "      <td>(milk, frozen smoothie)</td>\n",
              "    </tr>\n",
              "    <tr>\n",
              "      <th>200</th>\n",
              "      <td>0.014131</td>\n",
              "      <td>(cake, green tea)</td>\n",
              "    </tr>\n",
              "    <tr>\n",
              "      <th>201</th>\n",
              "      <td>0.011865</td>\n",
              "      <td>(cake, pancakes)</td>\n",
              "    </tr>\n",
              "    <tr>\n",
              "      <th>202</th>\n",
              "      <td>0.016398</td>\n",
              "      <td>(green tea, pancakes)</td>\n",
              "    </tr>\n",
              "    <tr>\n",
              "      <th>203</th>\n",
              "      <td>0.011865</td>\n",
              "      <td>(green tea, chicken)</td>\n",
              "    </tr>\n",
              "    <tr>\n",
              "      <th>204</th>\n",
              "      <td>0.011199</td>\n",
              "      <td>(green tea, frozen smoothie)</td>\n",
              "    </tr>\n",
              "    <tr>\n",
              "      <th>205</th>\n",
              "      <td>0.010799</td>\n",
              "      <td>(pancakes, olive oil)</td>\n",
              "    </tr>\n",
              "    <tr>\n",
              "      <th>206</th>\n",
              "      <td>0.015865</td>\n",
              "      <td>(spaghetti, chocolate, mineral water)</td>\n",
              "    </tr>\n",
              "    <tr>\n",
              "      <th>207</th>\n",
              "      <td>0.013465</td>\n",
              "      <td>(eggs, chocolate, mineral water)</td>\n",
              "    </tr>\n",
              "    <tr>\n",
              "      <th>208</th>\n",
              "      <td>0.010932</td>\n",
              "      <td>(ground beef, chocolate, mineral water)</td>\n",
              "    </tr>\n",
              "    <tr>\n",
              "      <th>209</th>\n",
              "      <td>0.013998</td>\n",
              "      <td>(chocolate, milk, mineral water)</td>\n",
              "    </tr>\n",
              "    <tr>\n",
              "      <th>210</th>\n",
              "      <td>0.011998</td>\n",
              "      <td>(spaghetti, frozen vegetables, mineral water)</td>\n",
              "    </tr>\n",
              "    <tr>\n",
              "      <th>211</th>\n",
              "      <td>0.011065</td>\n",
              "      <td>(frozen vegetables, milk, mineral water)</td>\n",
              "    </tr>\n",
              "    <tr>\n",
              "      <th>212</th>\n",
              "      <td>0.014265</td>\n",
              "      <td>(eggs, spaghetti, mineral water)</td>\n",
              "    </tr>\n",
              "    <tr>\n",
              "      <th>213</th>\n",
              "      <td>0.010132</td>\n",
              "      <td>(spaghetti, french fries, mineral water)</td>\n",
              "    </tr>\n",
              "    <tr>\n",
              "      <th>214</th>\n",
              "      <td>0.017064</td>\n",
              "      <td>(spaghetti, ground beef, mineral water)</td>\n",
              "    </tr>\n",
              "    <tr>\n",
              "      <th>215</th>\n",
              "      <td>0.015731</td>\n",
              "      <td>(spaghetti, milk, mineral water)</td>\n",
              "    </tr>\n",
              "    <tr>\n",
              "      <th>216</th>\n",
              "      <td>0.011465</td>\n",
              "      <td>(spaghetti, pancakes, mineral water)</td>\n",
              "    </tr>\n",
              "    <tr>\n",
              "      <th>217</th>\n",
              "      <td>0.010265</td>\n",
              "      <td>(spaghetti, olive oil, mineral water)</td>\n",
              "    </tr>\n",
              "    <tr>\n",
              "      <th>218</th>\n",
              "      <td>0.010132</td>\n",
              "      <td>(eggs, ground beef, mineral water)</td>\n",
              "    </tr>\n",
              "    <tr>\n",
              "      <th>219</th>\n",
              "      <td>0.013065</td>\n",
              "      <td>(eggs, milk, mineral water)</td>\n",
              "    </tr>\n",
              "    <tr>\n",
              "      <th>220</th>\n",
              "      <td>0.011065</td>\n",
              "      <td>(ground beef, milk, mineral water)</td>\n",
              "    </tr>\n",
              "    <tr>\n",
              "      <th>221</th>\n",
              "      <td>0.010532</td>\n",
              "      <td>(eggs, spaghetti, chocolate)</td>\n",
              "    </tr>\n",
              "    <tr>\n",
              "      <th>222</th>\n",
              "      <td>0.010932</td>\n",
              "      <td>(spaghetti, chocolate, milk)</td>\n",
              "    </tr>\n",
              "  </tbody>\n",
              "</table>\n",
              "<p>223 rows × 2 columns</p>\n",
              "</div>"
            ],
            "text/plain": [
              "      support                                       itemsets\n",
              "0    0.238368                                (mineral water)\n",
              "1    0.087188                                      (burgers)\n",
              "2    0.062525                                       (turkey)\n",
              "3    0.163845                                    (chocolate)\n",
              "4    0.095321                            (frozen vegetables)\n",
              "5    0.174110                                    (spaghetti)\n",
              "6    0.071457                                       (shrimp)\n",
              "7    0.052393                                (grated cheese)\n",
              "8    0.179709                                         (eggs)\n",
              "9    0.080389                                      (cookies)\n",
              "10   0.170911                                 (french fries)\n",
              "11   0.049460                                (herb & pepper)\n",
              "12   0.098254                                  (ground beef)\n",
              "13   0.068391                                     (tomatoes)\n",
              "14   0.129583                                         (milk)\n",
              "15   0.079323                                     (escalope)\n",
              "16   0.022264                                   (fresh tuna)\n",
              "17   0.028130                                     (red wine)\n",
              "18   0.026530                                          (ham)\n",
              "19   0.081056                                         (cake)\n",
              "20   0.132116                                    (green tea)\n",
              "21   0.029463                            (whole wheat pasta)\n",
              "22   0.095054                                     (pancakes)\n",
              "23   0.050527                                         (soup)\n",
              "24   0.024130                                      (muffins)\n",
              "25   0.027063                                   (energy bar)\n",
              "26   0.065858                                    (olive oil)\n",
              "27   0.046794                                    (champagne)\n",
              "28   0.026530                                       (pepper)\n",
              "29   0.033329                                      (avocado)\n",
              "..        ...                                            ...\n",
              "193  0.016531                               (pancakes, milk)\n",
              "194  0.015198                                   (soup, milk)\n",
              "195  0.017064                              (olive oil, milk)\n",
              "196  0.011865                       (whole wheat rice, milk)\n",
              "197  0.013198                         (low fat yogurt, milk)\n",
              "198  0.014798                                (chicken, milk)\n",
              "199  0.014265                        (milk, frozen smoothie)\n",
              "200  0.014131                              (cake, green tea)\n",
              "201  0.011865                               (cake, pancakes)\n",
              "202  0.016398                          (green tea, pancakes)\n",
              "203  0.011865                           (green tea, chicken)\n",
              "204  0.011199                   (green tea, frozen smoothie)\n",
              "205  0.010799                          (pancakes, olive oil)\n",
              "206  0.015865          (spaghetti, chocolate, mineral water)\n",
              "207  0.013465               (eggs, chocolate, mineral water)\n",
              "208  0.010932        (ground beef, chocolate, mineral water)\n",
              "209  0.013998               (chocolate, milk, mineral water)\n",
              "210  0.011998  (spaghetti, frozen vegetables, mineral water)\n",
              "211  0.011065       (frozen vegetables, milk, mineral water)\n",
              "212  0.014265               (eggs, spaghetti, mineral water)\n",
              "213  0.010132       (spaghetti, french fries, mineral water)\n",
              "214  0.017064        (spaghetti, ground beef, mineral water)\n",
              "215  0.015731               (spaghetti, milk, mineral water)\n",
              "216  0.011465           (spaghetti, pancakes, mineral water)\n",
              "217  0.010265          (spaghetti, olive oil, mineral water)\n",
              "218  0.010132             (eggs, ground beef, mineral water)\n",
              "219  0.013065                    (eggs, milk, mineral water)\n",
              "220  0.011065             (ground beef, milk, mineral water)\n",
              "221  0.010532                   (eggs, spaghetti, chocolate)\n",
              "222  0.010932                   (spaghetti, chocolate, milk)\n",
              "\n",
              "[223 rows x 2 columns]"
            ]
          },
          "metadata": {
            "tags": []
          },
          "execution_count": 30
        }
      ]
    },
    {
      "cell_type": "code",
      "metadata": {
        "id": "8fU5L2ZS7ZKx",
        "outputId": "b67f57bc-31ee-40b6-ed66-ef889f3eb0a1"
      },
      "source": [
        "apriori(data,min_support=0.05,use_colnames=True)"
      ],
      "execution_count": null,
      "outputs": [
        {
          "output_type": "execute_result",
          "data": {
            "text/html": [
              "<div>\n",
              "<style scoped>\n",
              "    .dataframe tbody tr th:only-of-type {\n",
              "        vertical-align: middle;\n",
              "    }\n",
              "\n",
              "    .dataframe tbody tr th {\n",
              "        vertical-align: top;\n",
              "    }\n",
              "\n",
              "    .dataframe thead th {\n",
              "        text-align: right;\n",
              "    }\n",
              "</style>\n",
              "<table border=\"1\" class=\"dataframe\">\n",
              "  <thead>\n",
              "    <tr style=\"text-align: right;\">\n",
              "      <th></th>\n",
              "      <th>support</th>\n",
              "      <th>itemsets</th>\n",
              "    </tr>\n",
              "  </thead>\n",
              "  <tbody>\n",
              "    <tr>\n",
              "      <th>0</th>\n",
              "      <td>0.238368</td>\n",
              "      <td>(mineral water)</td>\n",
              "    </tr>\n",
              "    <tr>\n",
              "      <th>1</th>\n",
              "      <td>0.087188</td>\n",
              "      <td>(burgers)</td>\n",
              "    </tr>\n",
              "    <tr>\n",
              "      <th>2</th>\n",
              "      <td>0.062525</td>\n",
              "      <td>(turkey)</td>\n",
              "    </tr>\n",
              "    <tr>\n",
              "      <th>3</th>\n",
              "      <td>0.163845</td>\n",
              "      <td>(chocolate)</td>\n",
              "    </tr>\n",
              "    <tr>\n",
              "      <th>4</th>\n",
              "      <td>0.095321</td>\n",
              "      <td>(frozen vegetables)</td>\n",
              "    </tr>\n",
              "    <tr>\n",
              "      <th>5</th>\n",
              "      <td>0.174110</td>\n",
              "      <td>(spaghetti)</td>\n",
              "    </tr>\n",
              "    <tr>\n",
              "      <th>6</th>\n",
              "      <td>0.071457</td>\n",
              "      <td>(shrimp)</td>\n",
              "    </tr>\n",
              "    <tr>\n",
              "      <th>7</th>\n",
              "      <td>0.052393</td>\n",
              "      <td>(grated cheese)</td>\n",
              "    </tr>\n",
              "    <tr>\n",
              "      <th>8</th>\n",
              "      <td>0.179709</td>\n",
              "      <td>(eggs)</td>\n",
              "    </tr>\n",
              "    <tr>\n",
              "      <th>9</th>\n",
              "      <td>0.080389</td>\n",
              "      <td>(cookies)</td>\n",
              "    </tr>\n",
              "    <tr>\n",
              "      <th>10</th>\n",
              "      <td>0.170911</td>\n",
              "      <td>(french fries)</td>\n",
              "    </tr>\n",
              "    <tr>\n",
              "      <th>11</th>\n",
              "      <td>0.098254</td>\n",
              "      <td>(ground beef)</td>\n",
              "    </tr>\n",
              "    <tr>\n",
              "      <th>12</th>\n",
              "      <td>0.068391</td>\n",
              "      <td>(tomatoes)</td>\n",
              "    </tr>\n",
              "    <tr>\n",
              "      <th>13</th>\n",
              "      <td>0.129583</td>\n",
              "      <td>(milk)</td>\n",
              "    </tr>\n",
              "    <tr>\n",
              "      <th>14</th>\n",
              "      <td>0.079323</td>\n",
              "      <td>(escalope)</td>\n",
              "    </tr>\n",
              "    <tr>\n",
              "      <th>15</th>\n",
              "      <td>0.081056</td>\n",
              "      <td>(cake)</td>\n",
              "    </tr>\n",
              "    <tr>\n",
              "      <th>16</th>\n",
              "      <td>0.132116</td>\n",
              "      <td>(green tea)</td>\n",
              "    </tr>\n",
              "    <tr>\n",
              "      <th>17</th>\n",
              "      <td>0.095054</td>\n",
              "      <td>(pancakes)</td>\n",
              "    </tr>\n",
              "    <tr>\n",
              "      <th>18</th>\n",
              "      <td>0.050527</td>\n",
              "      <td>(soup)</td>\n",
              "    </tr>\n",
              "    <tr>\n",
              "      <th>19</th>\n",
              "      <td>0.065858</td>\n",
              "      <td>(olive oil)</td>\n",
              "    </tr>\n",
              "    <tr>\n",
              "      <th>20</th>\n",
              "      <td>0.058526</td>\n",
              "      <td>(whole wheat rice)</td>\n",
              "    </tr>\n",
              "    <tr>\n",
              "      <th>21</th>\n",
              "      <td>0.076523</td>\n",
              "      <td>(low fat yogurt)</td>\n",
              "    </tr>\n",
              "    <tr>\n",
              "      <th>22</th>\n",
              "      <td>0.059992</td>\n",
              "      <td>(chicken)</td>\n",
              "    </tr>\n",
              "    <tr>\n",
              "      <th>23</th>\n",
              "      <td>0.063325</td>\n",
              "      <td>(frozen smoothie)</td>\n",
              "    </tr>\n",
              "    <tr>\n",
              "      <th>24</th>\n",
              "      <td>0.052660</td>\n",
              "      <td>(chocolate, mineral water)</td>\n",
              "    </tr>\n",
              "    <tr>\n",
              "      <th>25</th>\n",
              "      <td>0.059725</td>\n",
              "      <td>(spaghetti, mineral water)</td>\n",
              "    </tr>\n",
              "    <tr>\n",
              "      <th>26</th>\n",
              "      <td>0.050927</td>\n",
              "      <td>(eggs, mineral water)</td>\n",
              "    </tr>\n",
              "  </tbody>\n",
              "</table>\n",
              "</div>"
            ],
            "text/plain": [
              "     support                    itemsets\n",
              "0   0.238368             (mineral water)\n",
              "1   0.087188                   (burgers)\n",
              "2   0.062525                    (turkey)\n",
              "3   0.163845                 (chocolate)\n",
              "4   0.095321         (frozen vegetables)\n",
              "5   0.174110                 (spaghetti)\n",
              "6   0.071457                    (shrimp)\n",
              "7   0.052393             (grated cheese)\n",
              "8   0.179709                      (eggs)\n",
              "9   0.080389                   (cookies)\n",
              "10  0.170911              (french fries)\n",
              "11  0.098254               (ground beef)\n",
              "12  0.068391                  (tomatoes)\n",
              "13  0.129583                      (milk)\n",
              "14  0.079323                  (escalope)\n",
              "15  0.081056                      (cake)\n",
              "16  0.132116                 (green tea)\n",
              "17  0.095054                  (pancakes)\n",
              "18  0.050527                      (soup)\n",
              "19  0.065858                 (olive oil)\n",
              "20  0.058526          (whole wheat rice)\n",
              "21  0.076523            (low fat yogurt)\n",
              "22  0.059992                   (chicken)\n",
              "23  0.063325           (frozen smoothie)\n",
              "24  0.052660  (chocolate, mineral water)\n",
              "25  0.059725  (spaghetti, mineral water)\n",
              "26  0.050927       (eggs, mineral water)"
            ]
          },
          "metadata": {
            "tags": []
          },
          "execution_count": 31
        }
      ]
    },
    {
      "cell_type": "code",
      "metadata": {
        "id": "7l36T3am7ZKy"
      },
      "source": [
        ""
      ],
      "execution_count": null,
      "outputs": []
    }
  ]
}